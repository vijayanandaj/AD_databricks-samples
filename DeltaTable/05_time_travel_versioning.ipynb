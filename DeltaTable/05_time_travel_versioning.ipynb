{
 "cells": [
  {
   "cell_type": "code",
   "execution_count": 0,
   "metadata": {
    "application/vnd.databricks.v1+cell": {
     "cellMetadata": {},
     "inputWidgets": {},
     "nuid": "8acf9a6e-e902-4e27-91af-cf6e292b1fb1",
     "showTitle": false,
     "tableResultSettingsMap": {},
     "title": ""
    }
   },
   "outputs": [],
   "source": [
    "#04_Time travel and versioning\n",
    "from pyspark.sql import SparkSession\n",
    "from delta.tables import DeltaTable\n",
    "from pyspark.sql.functions import lit\n",
    "\n",
    "spark = SparkSession.builder.getOrCreate()\n",
    "path = \"/local_disk0/tmp/delta_time_travel\"\n",
    "\n",
    "# CLEAN UP\n",
    "dbutils.fs.rm(path, recurse=True)\n",
    "\n",
    "# ── Version 0: Initial write ──\n",
    "spark.range(0, 3) \\\n",
    "     .withColumn(\"val\", lit(\"alpha\")) \\\n",
    "     .write \\\n",
    "     .format(\"delta\") \\\n",
    "     .mode(\"overwrite\") \\\n",
    "     .save(path)\n",
    "\n",
    "# ── Version 1: Append new rows ──\n",
    "spark.range(3, 5) \\\n",
    "     .withColumn(\"val\", lit(\"beta\")) \\\n",
    "     .write \\\n",
    "     .format(\"delta\") \\\n",
    "     .mode(\"append\") \\\n",
    "     .save(path)\n",
    "\n",
    "# ── Version 2: Update in place ──\n",
    "DeltaTable.forPath(spark, path) \\\n",
    "  .update(\n",
    "    condition = \"id == 1\",\n",
    "    set       = {\"id\": \"100\", \"val\": \"'gamma'\"}\n",
    "  )\n",
    "\n",
    "# 1) Show commit history\n",
    "print(\"=== DESCRIBE HISTORY ===\")\n",
    "spark.sql(f\"DESCRIBE HISTORY delta.`{path}`\").show(truncate=False)\n",
    "\n",
    "# 2) Read as of version 0\n",
    "print(\"→ VERSION 0 SNAPSHOT:\")\n",
    "spark.read.format(\"delta\") \\\n",
    "     .option(\"versionAsOf\", 0) \\\n",
    "     .load(path) \\\n",
    "     .orderBy(\"id\") \\\n",
    "     .show()\n",
    "\n",
    "# 3) Read as of version 1\n",
    "print(\"→ VERSION 1 SNAPSHOT:\")\n",
    "spark.read.format(\"delta\") \\\n",
    "     .option(\"versionAsOf\", 1) \\\n",
    "     .load(path) \\\n",
    "     .orderBy(\"id\") \\\n",
    "     .show()\n",
    "\n",
    "# 4) Read latest (version 2)\n",
    "print(\"→ VERSION 2 (LATEST):\")\n",
    "spark.read.format(\"delta\") \\\n",
    "     .load(path) \\\n",
    "     .orderBy(\"id\") \\\n",
    "     .show()\n",
    "\n",
    "# 5) Read by timestamp (pick a timestamp between v1 & v2)\n",
    "import datetime\n",
    "ts = spark.sql(f\"SELECT timestamp FROM (DESCRIBE HISTORY delta.`{path}`) WHERE version = 1\").first()[0]\n",
    "print(f\"→ SNAPSHOT AS OF {ts}:\")\n",
    "spark.read.format(\"delta\") \\\n",
    "     .option(\"timestampAsOf\", ts) \\\n",
    "     .load(path) \\\n",
    "     .orderBy(\"id\") \\\n",
    "     .show()"
   ]
  }
 ],
 "metadata": {
  "application/vnd.databricks.v1+notebook": {
   "computePreferences": null,
   "dashboards": [],
   "environmentMetadata": {
    "base_environment": "",
    "environment_version": "2"
   },
   "inputWidgetPreferences": null,
   "language": "python",
   "notebookMetadata": {
    "pythonIndentUnit": 4
   },
   "notebookName": "05_time_travel_versioning",
   "widgets": {}
  },
  "language_info": {
   "name": "python"
  }
 },
 "nbformat": 4,
 "nbformat_minor": 0
}
