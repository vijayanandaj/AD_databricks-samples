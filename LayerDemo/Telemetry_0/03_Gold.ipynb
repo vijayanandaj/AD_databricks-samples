{
 "cells": [
  {
   "cell_type": "code",
   "execution_count": 0,
   "metadata": {
    "application/vnd.databricks.v1+cell": {
     "cellMetadata": {
      "byteLimit": 2048000,
      "rowLimit": 10000
     },
     "inputWidgets": {},
     "nuid": "98970698-06eb-4b0c-9792-3fbfe44afb87",
     "showTitle": false,
     "tableResultSettingsMap": {},
     "title": ""
    }
   },
   "outputs": [],
   "source": [
    "# 03_Gold.py\n",
    "from pyspark.sql import SparkSession\n",
    "from pyspark.sql.functions import col, count, countDistinct\n",
    "\n",
    "spark = SparkSession.builder.getOrCreate()\n",
    "\n",
    "# ─── 0) Point at your Hive Metastore ─────────────────────────────────────────\n",
    "spark.sql(\"USE CATALOG spark_catalog\")\n",
    "spark.sql(\"USE default\")\n",
    "\n",
    "# ─── 1) Paths ─────────────────────────────────────────────────────────────────\n",
    "silver_path         = \"/tmp/silver/cc_events_enterprise\"\n",
    "feature_usage_path  = \"/tmp/gold/feature_usage_fact\"\n",
    "user_activity_path  = \"/tmp/gold/user_activity_fact\"\n",
    "\n",
    "# ─── 2) Read the Silver “enterprise view” ────────────────────────────────────\n",
    "silver_df = spark.read.format(\"delta\").load(silver_path)\n",
    "display(silver_df.limit(5))\n",
    "\n",
    "# ─── 3) Feature Usage Fact ───────────────────────────────────────────────────\n",
    "feature_usage = (\n",
    "    silver_df\n",
    "      .filter(col(\"feature_category\").isNotNull())\n",
    "      .groupBy(\"event_date\",\"app_name\",\"feature_category\")\n",
    "      .agg(count(\"*\").alias(\"usage_count\"))\n",
    ")\n",
    "\n",
    "feature_usage.write.format(\"delta\") \\\n",
    "    .mode(\"overwrite\") \\\n",
    "    .partitionBy(\"event_date\") \\\n",
    "    .save(feature_usage_path)\n",
    "\n",
    "spark.sql(f\"\"\"\n",
    "  CREATE TABLE IF NOT EXISTS feature_usage_fact\n",
    "  USING DELTA\n",
    "  LOCATION '{feature_usage_path}'\n",
    "\"\"\")\n",
    "display(spark.read.format(\"delta\").load(feature_usage_path))\n",
    "\n",
    "# ─── 4) User Activity Fact ──────────────────────────────────────────────────\n",
    "user_activity = (\n",
    "    silver_df\n",
    "      .groupBy(\"event_date\",\"app_name\",\"region\")\n",
    "      .agg(countDistinct(\"user_id\").alias(\"active_users\"))\n",
    ")\n",
    "\n",
    "user_activity.write.format(\"delta\") \\\n",
    "    .mode(\"overwrite\") \\\n",
    "    .partitionBy(\"event_date\") \\\n",
    "    .save(user_activity_path)\n",
    "\n",
    "spark.sql(f\"\"\"\n",
    "  CREATE TABLE IF NOT EXISTS user_activity_fact\n",
    "  USING DELTA\n",
    "  LOCATION '{user_activity_path}'\n",
    "\"\"\")\n",
    "display(spark.read.format(\"delta\").load(user_activity_path))\n",
    "\n",
    "# ─── 5) Optimize Gold tables for speed ───────────────────────────────────────\n",
    "spark.sql(f\"OPTIMIZE delta.`{feature_usage_path}` ZORDER BY (feature_category)\")\n",
    "spark.sql(f\"OPTIMIZE delta.`{user_activity_path}`   ZORDER BY (region)\")"
   ]
  }
 ],
 "metadata": {
  "application/vnd.databricks.v1+notebook": {
   "computePreferences": null,
   "dashboards": [],
   "environmentMetadata": {
    "base_environment": "",
    "environment_version": "2"
   },
   "inputWidgetPreferences": null,
   "language": "python",
   "notebookMetadata": {
    "pythonIndentUnit": 4
   },
   "notebookName": "03_Gold",
   "widgets": {}
  },
  "language_info": {
   "name": "python"
  }
 },
 "nbformat": 4,
 "nbformat_minor": 0
}
