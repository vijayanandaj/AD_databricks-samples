{
 "cells": [
  {
   "cell_type": "code",
   "execution_count": 0,
   "metadata": {
    "application/vnd.databricks.v1+cell": {
     "cellMetadata": {},
     "inputWidgets": {},
     "nuid": "2b74f431-256a-473d-b51b-d9bc149467bd",
     "showTitle": false,
     "tableResultSettingsMap": {},
     "title": ""
    }
   },
   "outputs": [],
   "source": [
    "#Silver\n",
    "# 2) SILVER – clean, cast, dedupe, flatten & conform\n",
    "\n",
    "from pyspark.sql.functions import to_timestamp, col\n",
    "from delta.tables           import DeltaTable\n",
    "\n",
    "# TODO 1: point at your bronze & silver paths\n",
    "bronze_path = \"/tmp/bronze/doc_events/\"\n",
    "silver_path = \"/tmp/silver/doc_events/\"\n",
    "\n",
    "# TODO 2: rm / recreate silver_path if you want truly idempotent runs\n",
    "# dbutils.fs.rm(silver_path, recurse=True)\n",
    "\n",
    "# TODO 3: read the Bronze Delta into a DataFrame\n",
    "df = spark.read.format(\"delta\").load(bronze_path)\n",
    "\n",
    "# TODO 4: cast your string → timestamp; extract any nested fields\n",
    "silver = (\n",
    "  df.filter(\"event_time IS NOT NULL\")\n",
    "    .withColumn(\"event_ts\", to_timestamp(\"event_time\"))\n",
    "    .withColumn(\"os\",     col(\"device.os\"))\n",
    "    .withColumn(\"region\", col(\"device.region\"))\n",
    "    .select(\n",
    "       \"event_id\",\"user_id\",\"doc_id\",\"action\",\n",
    "       \"event_ts\",\"os\",\"region\",\"ingest_ts\",\"batch_id\"\n",
    "    )\n",
    ")\n",
    "\n",
    "# TODO 5: drop duplicates on your natural key(s)\n",
    "silver = silver.dropDuplicates([\"event_id\"])\n",
    "\n",
    "# TODO 6: choose upsert vs overwrite vs append\n",
    "if DeltaTable.isDeltaTable(spark, silver_path):\n",
    "    DeltaTable.forPath(spark, silver_path) \\\n",
    "      .merge(\n",
    "        silver.alias(\"new\"),\n",
    "        \"new.event_id = event_id\"\n",
    "      ) \\\n",
    "      .whenNotMatchedInsertAll() \\\n",
    "      .execute()\n",
    "else:\n",
    "    silver.write.format(\"delta\") \\\n",
    "          .mode(\"overwrite\") \\\n",
    "          .save(silver_path)\n",
    "\n",
    "# sanity-check\n",
    "display(spark.read.format(\"delta\").load(silver_path))"
   ]
  }
 ],
 "metadata": {
  "application/vnd.databricks.v1+notebook": {
   "computePreferences": null,
   "dashboards": [],
   "environmentMetadata": {
    "base_environment": "",
    "environment_version": "2"
   },
   "inputWidgetPreferences": null,
   "language": "python",
   "notebookMetadata": {
    "pythonIndentUnit": 4
   },
   "notebookName": "2_silver",
   "widgets": {}
  },
  "language_info": {
   "name": "python"
  }
 },
 "nbformat": 4,
 "nbformat_minor": 0
}
