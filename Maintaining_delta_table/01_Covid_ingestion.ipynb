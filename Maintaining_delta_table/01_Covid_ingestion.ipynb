{
 "cells": [
  {
   "cell_type": "code",
   "execution_count": 0,
   "metadata": {
    "application/vnd.databricks.v1+cell": {
     "cellMetadata": {
      "byteLimit": 2048000,
      "implicitDf": true,
      "rowLimit": 10000
     },
     "inputWidgets": {},
     "nuid": "e4cec359-d043-4843-938a-5c2a90e79a30",
     "showTitle": false,
     "tableResultSettingsMap": {},
     "title": ""
    }
   },
   "outputs": [],
   "source": [
    "from pyspark.sql import SparkSession\n",
    "spark = SparkSession.builder.getOrCreate()\n",
    "\n",
    "urls = [\n",
    "  \"https://raw.githubusercontent.com/delta-incubator/delta-lake-definitive-guide/main/datasets/COVID-19_NYT/us-counties.parquet\",\n",
    "  \"https://raw.githubusercontent.com/delta-incubator/delta-lake-definitive-guide/main/datasets/COVID-19_NYT/lookup.parquet\"\n",
    "]\n",
    "\n",
    "df = spark.read.parquet(*urls)\n",
    "df.write.format(\"delta\").mode(\"overwrite\").save(\"dbfs:/tmp/bronze/covid_nyt\")"
   ]
  },
  {
   "cell_type": "code",
   "execution_count": 0,
   "metadata": {
    "application/vnd.databricks.v1+cell": {
     "cellMetadata": {
      "byteLimit": 2048000,
      "rowLimit": 10000
     },
     "inputWidgets": {},
     "nuid": "cc24b003-9489-4e9a-9a93-f01d401873c5",
     "showTitle": false,
     "tableResultSettingsMap": {},
     "title": ""
    }
   },
   "outputs": [],
   "source": [
    "# Covid copy\n",
    "from pyspark.sql import SparkSession\n",
    "spark = SparkSession.builder.getOrCreate()\n",
    "\n",
    "#urls = [\n",
    "  #\"https://raw.githubusercontent.com/delta-incubator/delta-lake-definitive-guide\"\n",
    " # \"/main/datasets/COVID-19_NYT/lookup.parquet\",\n",
    "#  \"https://raw.githubusercontent.com/delta-incubator/delta-lake-definitive-guide\"\n",
    "#  \"/main/datasets/COVID-19_NYT/us-counties.parquet\",\n",
    "#  \"https://raw.githubusercontent.com/delta-incubator/delta-lake-definitive-guide\"\n",
    "#  \"/main/datasets/COVID-19_NYT/us-states.parquet\"\n",
    "#]\n",
    "\n",
    "base = \"https://\"\n",
    "path = \"raw.githubusercontent.com/delta-incubator/delta-lake-definitive-guide/\"\n",
    "suffixes = [\n",
    "    \"main/datasets/COVID-19_NYT/lookup.parquet\",\n",
    "    \"main/datasets/COVID-19_NYT/us-counties.parquet\",\n",
    "    \"main/datasets/COVID-19_NYT/us-states.parquet\",\n",
    "]\n",
    "\n",
    "urls = [ base + path + s for s in suffixes ]\n",
    "\n",
    "(\n",
    "  spark.read\n",
    "       .parquet(*urls)\n",
    "       .write\n",
    "       .format(\"delta\")\n",
    "       .mode(\"overwrite\")\n",
    "       .save(\"dbfs:/tmp/bronze/covid_nyt\")\n",
    ")\n",
    "\n",
    "print(\"✅ One‐step Bronze Delta ready!\")"
   ]
  }
 ],
 "metadata": {
  "application/vnd.databricks.v1+notebook": {
   "computePreferences": null,
   "dashboards": [],
   "environmentMetadata": {
    "base_environment": "",
    "environment_version": "2"
   },
   "inputWidgetPreferences": null,
   "language": "python",
   "notebookMetadata": {
    "mostRecentlyExecutedCommandWithImplicitDF": {
     "commandId": -1,
     "dataframes": [
      "_sqldf"
     ]
    },
    "pythonIndentUnit": 4
   },
   "notebookName": "01_Covid_ingestion",
   "widgets": {}
  },
  "language_info": {
   "name": "python"
  }
 },
 "nbformat": 4,
 "nbformat_minor": 0
}
