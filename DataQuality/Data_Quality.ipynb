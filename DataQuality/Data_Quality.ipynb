{
 "cells": [
  {
   "cell_type": "code",
   "execution_count": 0,
   "metadata": {
    "application/vnd.databricks.v1+cell": {
     "cellMetadata": {
      "byteLimit": 2048000,
      "rowLimit": 10000
     },
     "inputWidgets": {},
     "nuid": "bc27b9d2-64ba-41b4-b7ec-a1b3e38176f2",
     "showTitle": false,
     "tableResultSettingsMap": {},
     "title": ""
    }
   },
   "outputs": [],
   "source": [
    "#%pip install great_expectations\n",
    "import great_expectations as ge\n",
    "\n",
    "# 1) point at your Delta table (or DataFrame)\n",
    "df = spark.read.format(\"delta\").load(\"/tmp/bronze/covid_nyt\").toPandas()\n",
    "context = ge.get_context()\n",
    "\n",
    "# 2) create a new suite\n",
    "suite = context.create_expectation_suite(\"covid_quality\", overwrite_existing=True)\n",
    "\n",
    "# 3) turn your Pandas DF into a GE Dataset\n",
    "gedf = ge.from_pandas(df, expectation_suite_name=\"covid_quality\")\n",
    "\n",
    "# 4) add some expectations\n",
    "gedf.expect_column_values_to_not_be_null(\"date\")\n",
    "gedf.expect_column_values_to_be_between(\"cases\", min_value=0)\n",
    "gedf.expect_column_values_to_be_unique([\"date\",\"county\",\"state\"])\n",
    "\n",
    "# 5) run a checkpoint\n",
    "from great_expectations.checkpoint import SimpleCheckpoint\n",
    "checkpoint = SimpleCheckpoint(\n",
    "    name=\"covid_checkpoint\",\n",
    "    data_context=context,\n",
    "    batch_request=gedf.get_batch_request(),\n",
    "    expectation_suite_name=\"covid_quality\"\n",
    ")\n",
    "results = checkpoint.run()\n",
    "print(results.get_statistics())"
   ]
  }
 ],
 "metadata": {
  "application/vnd.databricks.v1+notebook": {
   "computePreferences": null,
   "dashboards": [],
   "environmentMetadata": {
    "base_environment": "",
    "environment_version": "2"
   },
   "inputWidgetPreferences": null,
   "language": "python",
   "notebookMetadata": {
    "pythonIndentUnit": 4
   },
   "notebookName": "Data_Quality",
   "widgets": {}
  },
  "language_info": {
   "name": "python"
  }
 },
 "nbformat": 4,
 "nbformat_minor": 0
}
