{
 "cells": [
  {
   "cell_type": "code",
   "execution_count": 0,
   "metadata": {
    "application/vnd.databricks.v1+cell": {
     "cellMetadata": {
      "byteLimit": 2048000,
      "rowLimit": 10000
     },
     "inputWidgets": {},
     "nuid": "082caba4-dce0-467d-937d-bd239ad7beaf",
     "showTitle": false,
     "tableResultSettingsMap": {},
     "title": ""
    }
   },
   "outputs": [],
   "source": [
    "# 04_Medallion_Pipeline.py\n",
    "import logging\n",
    "\n",
    "try:\n",
    "    dbutils  # already available in notebooks\n",
    "except NameError:\n",
    "    from pyspark.dbutils import DBUtils\n",
    "    dbutils = DBUtils(spark)\n",
    "\n",
    "# 1) configure logger\n",
    "logging.basicConfig(level=logging.INFO,\n",
    "                    format=\"%(asctime)s %(levelname)s %(message)s\")\n",
    "\n",
    "def run_notebook(path: str, timeout: int = 3600, params: dict = None):\n",
    "    logging.info(f\"▶️  Starting `{path}`\")\n",
    "    result = dbutils.notebook.run(path, timeout, params or {})\n",
    "    logging.info(f\"✅  Finished `{path}`, returned: {result!r}\")\n",
    "    return result\n",
    "\n",
    "if __name__ == \"__main__\":\n",
    "    # adjust these to your exact notebook paths\n",
    "    bronze_nb = \"/Repos/jvijaytrainer@outlook.com/AD_databricks-samples/LayerDemo/01_Bronze\"\n",
    "    silver_nb = \"/Repos/jvijaytrainer@outlook.com/AD_databricks-samples/LayerDemo/02_Silver\"\n",
    "    gold_nb   = \"/Repos/jvijaytrainer@outlook.com/AD_databricks-samples/LayerDemo/03_Gold\"\n",
    "\n",
    "    # 1) Bronze\n",
    "    run_notebook(bronze_nb)\n",
    "\n",
    "    # 2) Silver (depends on Bronze)\n",
    "    run_notebook(silver_nb)\n",
    "\n",
    "    # 3) Gold (depends on Silver)\n",
    "    run_notebook(gold_nb)\n",
    "\n"
   ]
  }
 ],
 "metadata": {
  "application/vnd.databricks.v1+notebook": {
   "computePreferences": null,
   "dashboards": [],
   "environmentMetadata": {
    "base_environment": "",
    "environment_version": "2"
   },
   "inputWidgetPreferences": null,
   "language": "python",
   "notebookMetadata": {
    "pythonIndentUnit": 4
   },
   "notebookName": "04_pipeline",
   "widgets": {}
  },
  "language_info": {
   "name": "python"
  }
 },
 "nbformat": 4,
 "nbformat_minor": 0
}
