{
 "cells": [
  {
   "cell_type": "code",
   "execution_count": 0,
   "metadata": {
    "application/vnd.databricks.v1+cell": {
     "cellMetadata": {
      "byteLimit": 2048000,
      "rowLimit": 10000
     },
     "inputWidgets": {},
     "nuid": "e98ca02e-ab09-4a80-93d5-c8db23ae43e6",
     "showTitle": false,
     "tableResultSettingsMap": {},
     "title": ""
    }
   },
   "outputs": [],
   "source": [
    "# Bronze Layer Ingestion for telemetry1 events\n",
    "# Spark 4.0.0, serverless cluster compatible\n",
    "\n",
    "from pyspark.sql.functions import (\n",
    "    current_timestamp, lit, input_file_name, date_format,\n",
    "    sha2, concat_ws, col\n",
    ")\n",
    "from pyspark.sql.types import (\n",
    "    StructType, StructField, StringType, TimestampType, StructType\n",
    ")\n",
    "import uuid\n",
    "\n",
    "# 0) Derive a unique process_id (fallback to UUID when job configs absent)\n",
    "try:\n",
    "    job_id = spark.conf.get(\"spark.databricks.job.id\")\n",
    "except:\n",
    "    job_id = \"interactive\"\n",
    "try:\n",
    "    run_id = spark.conf.get(\"spark.databricks.job.runId\")\n",
    "except:\n",
    "    run_id = \"interactive\"\n",
    "process_id = f\"bronze_ingest|{job_id}_{run_id}|{uuid.uuid4()}\"\n",
    "\n",
    "# 1) Define raw telemetry schema\n",
    "telemetry_schema = StructType([\n",
    "    StructField(\"user_id\",         StringType(), True),\n",
    "    StructField(\"app_name\",        StringType(), True),\n",
    "    StructField(\"event_type\",      StringType(), True),\n",
    "    StructField(\"event_timestamp\", TimestampType(), True),\n",
    "    StructField(\"device\", StructType([\n",
    "        StructField(\"os\",     StringType(), True),\n",
    "        StructField(\"region\", StringType(), True)\n",
    "    ]), True)\n",
    "])\n",
    "\n",
    "# 2) Paths for raw and bronze layers\n",
    "raw_path    = \"dbfs:/tmp/raw/telemetry1/\"\n",
    "bronze_path = \"dbfs:/tmp/bronze/telemetry1/\"\n",
    "\n",
    "# Ensure bronze folder exists\n",
    "dbutils.fs.mkdirs(bronze_path)\n",
    "\n",
    "# Read raw JSON data\n",
    "raw_df = spark.read \\\n",
    "    .schema(telemetry_schema) \\\n",
    "    .json(raw_path)\n",
    "\n",
    "# 3) Enrich with audit, lineage, and metadata\n",
    "bronze_df = (\n",
    "    raw_df\n",
    "    .withColumn(\"ingest_ts\",     current_timestamp())            # ingestion timestamp\n",
    "    .withColumn(\"process_id\",    lit(process_id))                  # unique process/run id\n",
    "    .withColumn(\"file_name\",     input_file_name())                 # source file for lineage\n",
    "    .withColumn(\"source_system\", lit(\"telemetry1\"))             # source identifier\n",
    "    .withColumn(\"ingest_date\",   date_format(col(\"ingest_ts\"), \"yyyy-MM-dd\")) \n",
    "    .withColumn(\"record_hash\",   sha2(\n",
    "            concat_ws(\n",
    "              \"|\",\n",
    "              col(\"user_id\"),\n",
    "              col(\"app_name\"),\n",
    "              col(\"event_type\"),\n",
    "              col(\"event_timestamp\").cast(\"string\"),\n",
    "              col(\"device.os\"),\n",
    "              col(\"device.region\")\n",
    "            ),\n",
    "            256\n",
    "          ) \n",
    "    )\n",
    "    .withColumn(\"partition_key\", date_format(col(\"event_timestamp\"), \"yyyy-MM-dd\"))\n",
    ")\n",
    "\n",
    "\n",
    "# 4) Write to Bronze Delta (append-only), partitioned for faster reads\n",
    "bronze_df.write \\\n",
    "    .format(\"delta\") \\\n",
    "    .mode(\"append\") \\\n",
    "    .partitionBy(\"partition_key\") \\\n",
    "    .save(bronze_path)\n",
    "\n",
    "# 5) Sanity-check\n",
    "print(\"Bronze count:\", spark.read.format(\"delta\").load(bronze_path).count())\n",
    "spark.read.format(\"delta\").load(bronze_path).show(5, truncate=False)\n"
   ]
  },
  {
   "cell_type": "code",
   "execution_count": 0,
   "metadata": {
    "application/vnd.databricks.v1+cell": {
     "cellMetadata": {},
     "inputWidgets": {},
     "nuid": "3621e505-4acb-4154-86ef-25ccebad927b",
     "showTitle": false,
     "tableResultSettingsMap": {},
     "title": ""
    }
   },
   "outputs": [],
   "source": []
  }
 ],
 "metadata": {
  "application/vnd.databricks.v1+notebook": {
   "computePreferences": null,
   "dashboards": [],
   "environmentMetadata": {
    "base_environment": "",
    "environment_version": "2"
   },
   "inputWidgetPreferences": null,
   "language": "python",
   "notebookMetadata": {
    "pythonIndentUnit": 4
   },
   "notebookName": "Telemetry1_Bronze",
   "widgets": {}
  },
  "language_info": {
   "name": "python"
  }
 },
 "nbformat": 4,
 "nbformat_minor": 0
}
