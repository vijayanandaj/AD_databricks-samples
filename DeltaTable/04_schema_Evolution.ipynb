{
 "cells": [
  {
   "cell_type": "code",
   "execution_count": 0,
   "metadata": {
    "application/vnd.databricks.v1+cell": {
     "cellMetadata": {},
     "inputWidgets": {},
     "nuid": "9bfcbe8a-9d67-47a4-86f1-0fa54c6b10b5",
     "showTitle": false,
     "tableResultSettingsMap": {},
     "title": ""
    }
   },
   "outputs": [],
   "source": [
    "# Aspect 4 - Schema Evolution \n",
    "from pyspark.sql import SparkSession\n",
    "from pyspark.sql.functions import lit, col\n",
    "\n",
    "spark = SparkSession.builder.getOrCreate()\n",
    "path = \"dbfs:/FileStore/delta_schema_demo\"\n",
    "\n",
    "# CLEAN UP\n",
    "dbutils.fs.rm(path, recurse=True)\n",
    "\n",
    "# ── Step A: INITIAL WRITE ──\n",
    "# Create a table with schema (id: LONG, val: STRING)\n",
    "spark.range(0, 3) \\\n",
    "     .withColumn(\"val\", lit(\"alpha\")) \\\n",
    "     .write \\\n",
    "     .format(\"delta\") \\\n",
    "     .mode(\"overwrite\") \\\n",
    "     .save(path)\n",
    "\n",
    "print(\"Version 0 snapshot:\")\n",
    "display(spark.read.format(\"delta\").load(path))\n",
    "\n",
    "# ── Step B: TRY A MISMATCHED WRITE ──\n",
    "# This DataFrame has an extra column 'new_col'\n",
    "bad_df = spark.range(3, 6) \\\n",
    "              .withColumn(\"val\", lit(\"beta\")) \\\n",
    "              .withColumn(\"new_col\", lit(99.9))\n",
    "\n",
    "try:\n",
    "    bad_df.write.format(\"delta\").mode(\"append\").save(path)\n",
    "except Exception as e:\n",
    "    print(\"🛑 Write rejected due to schema mismatch:\\n\", e)\n",
    "\n",
    "# ── Step C: ALLOW EVOLUTION & APPEND ──\n",
    "# Now enable schema merging to accept the new column\n",
    "bad_df.write \\\n",
    "     .format(\"delta\") \\\n",
    "     .mode(\"append\") \\\n",
    "     .option(\"mergeSchema\", \"true\") \\\n",
    "     .save(path)\n",
    "\n",
    "print(\"Version 2 snapshot (merged schema):\")\n",
    "spark.read \\\n",
    "     .format(\"delta\") \\\n",
    "     .option(\"mergeSchema\", \"true\") \\\n",
    "     .load(path) \\\n",
    "     .show()\n",
    "\n",
    "# ── Inspect history & schema ──\n",
    "print(\"DESCRIBE HISTORY:\")\n",
    "spark.sql(f\"DESCRIBE HISTORY delta.`{path}`\").show(truncate=False)\n",
    "\n",
    "print(\"Current schema:\")\n",
    "spark.read.format(\"delta\").load(path).printSchema()"
   ]
  }
 ],
 "metadata": {
  "application/vnd.databricks.v1+notebook": {
   "computePreferences": null,
   "dashboards": [],
   "environmentMetadata": {
    "base_environment": "",
    "environment_version": "2"
   },
   "inputWidgetPreferences": null,
   "language": "python",
   "notebookMetadata": {
    "pythonIndentUnit": 4
   },
   "notebookName": "04_schema_Evolution",
   "widgets": {}
  },
  "language_info": {
   "name": "python"
  }
 },
 "nbformat": 4,
 "nbformat_minor": 0
}
