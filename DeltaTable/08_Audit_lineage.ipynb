{
 "cells": [
  {
   "cell_type": "code",
   "execution_count": 0,
   "metadata": {
    "application/vnd.databricks.v1+cell": {
     "cellMetadata": {
      "byteLimit": 2048000,
      "rowLimit": 10000
     },
     "inputWidgets": {},
     "nuid": "a94f96c2-2288-44bc-9bdd-f5b39d072200",
     "showTitle": false,
     "tableResultSettingsMap": {},
     "title": ""
    }
   },
   "outputs": [],
   "source": [
    "#08 Audit and Lineage \n",
    "from pyspark.sql import SparkSession\n",
    "from pyspark.sql.functions import lit, col\n",
    "\n",
    "spark = SparkSession.builder.getOrCreate()\n",
    "\n",
    "# Paths for our demo tables\n",
    "src = \"/tmp/delta_audit_src\"\n",
    "dst = \"/tmp/delta_audit_child\"\n",
    "\n",
    "# 1) Clean up any previous runs\n",
    "dbutils.fs.rm(src, recurse=True)\n",
    "dbutils.fs.rm(dst, recurse=True)\n",
    "\n",
    "# 2) Create source table (version 0)\n",
    "spark.range(0, 3) \\\n",
    "     .withColumn(\"val\", lit(\"alpha\")) \\\n",
    "     .write.format(\"delta\") \\\n",
    "     .mode(\"overwrite\") \\\n",
    "     .save(src)\n",
    "\n",
    "# 3) Append more data (version 1)\n",
    "spark.range(3, 5) \\\n",
    "     .withColumn(\"val\", lit(\"beta\")) \\\n",
    "     .write.format(\"delta\") \\\n",
    "     .mode(\"append\") \\\n",
    "     .save(src)\n",
    "\n",
    "# 4) Create a child table via CTAS (child version 0)\n",
    "spark.sql(f\"CREATE TABLE delta.`{dst}` AS SELECT * FROM delta.`{src}`\")\n",
    "\n",
    "# 5) Inspect Audit History on source_tbl\n",
    "print(\"=== SOURCE TABLE HISTORY ===\")\n",
    "spark.sql(f\"DESCRIBE HISTORY delta.`{src}`\").show(truncate=False)\n",
    "\n",
    "# 6) Inspect Audit History (and lineage) on child_tbl\n",
    "print(\"=== CHILD TABLE HISTORY ===\")\n",
    "spark.sql(f\"DESCRIBE HISTORY delta.`{dst}`\").show(truncate=False)"
   ]
  }
 ],
 "metadata": {
  "application/vnd.databricks.v1+notebook": {
   "computePreferences": null,
   "dashboards": [],
   "environmentMetadata": {
    "base_environment": "",
    "environment_version": "2"
   },
   "inputWidgetPreferences": null,
   "language": "python",
   "notebookMetadata": {
    "pythonIndentUnit": 4
   },
   "notebookName": "08_Audit_lineage",
   "widgets": {}
  },
  "language_info": {
   "name": "python"
  }
 },
 "nbformat": 4,
 "nbformat_minor": 0
}
