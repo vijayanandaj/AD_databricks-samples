{
 "cells": [
  {
   "cell_type": "code",
   "execution_count": 0,
   "metadata": {
    "application/vnd.databricks.v1+cell": {
     "cellMetadata": {
      "byteLimit": 2048000,
      "rowLimit": 10000
     },
     "inputWidgets": {},
     "nuid": "3329da52-fc40-4a75-aedb-cceb92abd804",
     "showTitle": false,
     "tableResultSettingsMap": {},
     "title": ""
    }
   },
   "outputs": [],
   "source": [
    "# 10 merge into sample \n",
    "from pyspark.sql import SparkSession\n",
    "from pyspark.sql.functions import col\n",
    "\n",
    "spark = SparkSession.builder \\\n",
    "    .appName(\"AppendOnlyDemo\") \\\n",
    "    .enableHiveSupport() \\\n",
    "    .getOrCreate()\n",
    "\n",
    "# 1) Create an initial “Silver” table with one row per user\n",
    "initial = [(1, \"Alice\", 100), (2, \"Bob\", 150)]\n",
    "cols    = [\"user_id\", \"name\", \"balance\"]\n",
    "df_init = spark.createDataFrame(initial, cols)\n",
    "\n",
    "# Write it out as Delta\n",
    "silver_path = \"/mnt/data/silver_demo\"\n",
    "spark.sql(\"DROP TABLE IF EXISTS demo.silver_no_merge\")\n",
    "df_init.write.format(\"delta\") \\\n",
    "    .mode(\"overwrite\") \\\n",
    "    .option(\"overwriteSchema\", \"true\") \\\n",
    "    .save(silver_path)\n",
    "spark.sql(f\"\"\"\n",
    "  CREATE TABLE demo.silver_no_merge\n",
    "  USING DELTA\n",
    "  LOCATION '{silver_path}'\n",
    "\"\"\")\n",
    "\n",
    "# 2) Simulate an update in Bronze: Alice’s balance → 200\n",
    "update = [(1, \"Alice\", 200)]\n",
    "df_upd  = spark.createDataFrame(update, cols)\n",
    "\n",
    "# **Append** it into the Silver folder, without MERGE\n",
    "df_upd.write.format(\"delta\") \\\n",
    "    .mode(\"append\") \\\n",
    "    .save(silver_path)\n",
    "\n",
    "# 3) Query the “Silver” table\n",
    "spark.sql(\"\"\"\n",
    "  SELECT * \n",
    "    FROM demo.silver_no_merge\n",
    "   WHERE user_id = 1\n",
    "\"\"\").show()\n"
   ]
  },
  {
   "cell_type": "code",
   "execution_count": 0,
   "metadata": {
    "application/vnd.databricks.v1+cell": {
     "cellMetadata": {},
     "inputWidgets": {},
     "nuid": "46ab81bf-d485-436f-b169-b2a70a7de20a",
     "showTitle": false,
     "tableResultSettingsMap": {},
     "title": ""
    }
   },
   "outputs": [],
   "source": [
    "from delta.tables import DeltaTable\n",
    "\n",
    "# Assume spark session and demo.silver_demo path from above\n",
    "\n",
    "# 1) Register a fresh Silver table for merge\n",
    "silver_path2 = \"/mnt/data/silver_demo_merge\"\n",
    "spark.sql(\"DROP TABLE IF EXISTS demo.silver_with_merge\")\n",
    "df_init.write.format(\"delta\") \\\n",
    "    .mode(\"overwrite\") \\\n",
    "    .save(silver_path2)\n",
    "spark.sql(f\"\"\"\n",
    "  CREATE TABLE demo.silver_with_merge\n",
    "  USING DELTA\n",
    "  LOCATION '{silver_path2}'\n",
    "\"\"\")\n",
    "\n",
    "# 2) Use DeltaTable API to MERGE the same update\n",
    "silver = DeltaTable.forName(spark, \"demo.silver_with_merge\")\n",
    "\n",
    "silver.alias(\"t\") \\\n",
    "    .merge(\n",
    "        df_upd.alias(\"s\"),               # source = the one updated row\n",
    "        \"t.user_id = s.user_id\"          # match on the business key\n",
    "    ) \\\n",
    "    .whenMatchedUpdateAll() \\\n",
    "    .whenNotMatchedInsertAll() \\\n",
    "    .execute()\n",
    "\n",
    "# 3) Query the merged table\n",
    "spark.sql(\"\"\"\n",
    "  SELECT * \n",
    "    FROM demo.silver_with_merge\n",
    "   WHERE user_id = 1\n",
    "\"\"\").show()\n"
   ]
  }
 ],
 "metadata": {
  "application/vnd.databricks.v1+notebook": {
   "computePreferences": null,
   "dashboards": [],
   "environmentMetadata": {
    "base_environment": "",
    "environment_version": "2"
   },
   "inputWidgetPreferences": null,
   "language": "python",
   "notebookMetadata": {
    "pythonIndentUnit": 4
   },
   "notebookName": "Untitled Notebook 2025-08-05 22_37_18",
   "widgets": {}
  },
  "language_info": {
   "name": "python"
  }
 },
 "nbformat": 4,
 "nbformat_minor": 0
}
