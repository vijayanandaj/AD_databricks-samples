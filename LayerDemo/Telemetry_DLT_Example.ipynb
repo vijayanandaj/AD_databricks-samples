{
 "cells": [
  {
   "cell_type": "code",
   "execution_count": 0,
   "metadata": {
    "application/vnd.databricks.v1+cell": {
     "cellMetadata": {
      "byteLimit": 2048000,
      "rowLimit": 10000
     },
     "inputWidgets": {},
     "nuid": "1f3edae4-a333-4b75-a851-52294490165f",
     "showTitle": false,
     "tableResultSettingsMap": {},
     "title": ""
    }
   },
   "outputs": [],
   "source": [
    "# one single file that does everything - creation of Bronze silver, gold and the driver code \n",
    "import dlt\n",
    "from pyspark.sql.functions import current_timestamp, col\n",
    "\n",
    "# -------------------------------------\n",
    "# Bronze: land raw CC events into Delta\n",
    "# -------------------------------------\n",
    "@dlt.table(\n",
    "  name=\"bronze_cc_events\",\n",
    "  comment=\"Raw CreativeCloud events with audit columns\",\n",
    "  table_properties={\n",
    "    \"pipelines.trigger\": \"once\"    # or \"continuous\" for streaming\n",
    "  }\n",
    ")\n",
    "def bronze_cc_events():\n",
    "    raw_path = \"dbfs:/tmp/raw/telemetry/\"\n",
    "    schema = \"\"\" user_id STRING, app_name STRING, event_type STRING,\n",
    "                 event_timestamp STRING, device STRUCT<os:STRING,region:STRING> \"\"\"\n",
    "    df = (\n",
    "      spark.read\n",
    "           .schema(schema)\n",
    "           .option(\"multiline\", True)\n",
    "           .json(raw_path)\n",
    "    )\n",
    "    return df.withColumn(\"ingest_ts\", current_timestamp()) \\\n",
    "             .withColumn(\"process_id\", dlt.current_timestamp())  # or any unique run ID\n",
    "\n",
    "# ------------------------------------------------\n",
    "# Silver: flatten, filter, dedupe & conformance join\n",
    "# ------------------------------------------------\n",
    "@dlt.table(\n",
    "  name=\"silver_cc_events\",\n",
    "  comment=\"Flattened, cleansed & conformed events\",\n",
    "  table_properties={ \"pipelines.trigger\": \"once\" }\n",
    ")\n",
    "@dlt.expect_or_drop(\"valid_timestamp\", \"event_timestamp IS NOT NULL\")\n",
    "def silver_cc_events():\n",
    "    bronze = dlt.read(\"bronze_cc_events\")\n",
    "    # flatten the device struct\n",
    "    flat = bronze.select(\n",
    "      \"user_id\",\"app_name\",\"event_type\",\"event_timestamp\",\n",
    "      col(\"device.os\").alias(\"os\"),\n",
    "      col(\"device.region\").alias(\"region\"),\n",
    "      \"ingest_ts\",\"process_id\"\n",
    "    )\n",
    "    # de-dupe on natural key\n",
    "    deduped = flat.dropDuplicates(\n",
    "      [\"user_id\",\"app_name\",\"event_type\",\"event_timestamp\"]\n",
    "    )\n",
    "    # example conformance join against a small lookup table you’ve registered\n",
    "    # make sure to create that lookup earlier or as another DLT table\n",
    "    return deduped.join(\n",
    "      dlt.read(\"cc_features\"),  # assume you have a LIVE.TABLE cc_features \n",
    "      on=[\"app_name\",\"event_type\"],\n",
    "      how=\"left\"\n",
    "    )\n",
    "\n",
    "# -----------------------------------\n",
    "# Gold: aggregate into business metrics\n",
    "# -----------------------------------\n",
    "@dlt.table(\n",
    "  name=\"gold_daily_counts\",\n",
    "  comment=\"Daily event counts by app and feature\",\n",
    "  table_properties={ \"pipelines.trigger\": \"once\" }\n",
    ")\n",
    "def gold_daily_counts():\n",
    "    silver = dlt.read(\"silver_cc_events\")\n",
    "    return (\n",
    "      silver.withColumn(\"dt\", col(\"event_timestamp\").cast(\"date\"))\n",
    "            .groupBy(\"dt\",\"app_name\",\"feature_category\")\n",
    "            .count()\n",
    "    )"
   ]
  }
 ],
 "metadata": {
  "application/vnd.databricks.v1+notebook": {
   "computePreferences": null,
   "dashboards": [],
   "environmentMetadata": {
    "base_environment": "",
    "environment_version": "2"
   },
   "inputWidgetPreferences": null,
   "language": "python",
   "notebookMetadata": {
    "pythonIndentUnit": 4
   },
   "notebookName": "Telemetry_DLT_Example",
   "widgets": {}
  },
  "language_info": {
   "name": "python"
  }
 },
 "nbformat": 4,
 "nbformat_minor": 0
}
