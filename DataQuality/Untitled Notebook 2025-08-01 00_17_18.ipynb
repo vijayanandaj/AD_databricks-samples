{
 "cells": [
  {
   "cell_type": "code",
   "execution_count": 0,
   "metadata": {
    "application/vnd.databricks.v1+cell": {
     "cellMetadata": {
      "byteLimit": 2048000,
      "rowLimit": 10000
     },
     "inputWidgets": {},
     "nuid": "05e4203c-22d8-4d80-b2e9-aaffdccbfde8",
     "showTitle": false,
     "tableResultSettingsMap": {},
     "title": ""
    }
   },
   "outputs": [],
   "source": [
    "# 1) Download the raw parquet files into DBFS:/tmp/raw/covid_nyt\n",
    "import os\n",
    "import urllib.request\n",
    "\n",
    "raw_dbfs = \"/tmp/raw/covid_nyt\"\n",
    "bronze_dbfs = \"/tmp/bronze/covid_nyt\"\n",
    "\n",
    "# clean up any prior runs\n",
    "dbutils.fs.rm(f\"dbfs:{raw_dbfs}\", recurse=True)\n",
    "dbutils.fs.rm(f\"dbfs:{bronze_dbfs}\", recurse=True)\n",
    "\n",
    "# recreate the raw folder\n",
    "dbutils.fs.mkdirs(f\"dbfs:{raw_dbfs}\")\n",
    "\n",
    "base_url = \"https://raw.githubusercontent.com/delta-incubator/delta-lake-definitive-guide/main/datasets/COVID-19_NYT/\"\n",
    "files = [\"lookup.parquet\", \"us-counties.parquet\", \"us-states.parquet\"]\n",
    "\n",
    "for fname in files:\n",
    "    local_tmp = f\"/tmp/{fname}\"\n",
    "    print(f\"⬇️  Downloading {base_url+fname} → {local_tmp}\")\n",
    "    urllib.request.urlretrieve(base_url + fname, local_tmp)\n",
    "    dest = f\"{raw_dbfs}/{fname}\"\n",
    "    print(f\"📂  Copying {local_tmp} → dbfs:{dest}\")\n",
    "    dbutils.fs.cp(f\"file:{local_tmp}\", f\"dbfs:{dest}\")\n",
    "\n",
    "# 2) Read them all as a single DataFrame and write out as Bronze Delta\n",
    "from pyspark.sql import SparkSession\n",
    "spark = SparkSession.builder.getOrCreate()\n",
    "\n",
    "urls = [f\"dbfs:{raw_dbfs}/{f}\" for f in files]\n",
    "df = spark.read.parquet(*urls)\n",
    "\n",
    "print(f\"🚀  Writing Bronze delta to dbfs:{bronze_dbfs}\")\n",
    "(df.write\n",
    "   .format(\"delta\")\n",
    "   .mode(\"overwrite\")\n",
    "   .save(f\"dbfs:{bronze_dbfs}\"))\n",
    "\n",
    "print(\"✅  Bronze layer ready!\")"
   ]
  },
  {
   "cell_type": "code",
   "execution_count": 0,
   "metadata": {
    "application/vnd.databricks.v1+cell": {
     "cellMetadata": {
      "byteLimit": 2048000,
      "rowLimit": 10000
     },
     "inputWidgets": {},
     "nuid": "145c9e96-60e8-4d56-8ae0-e73dbcc66743",
     "showTitle": false,
     "tableResultSettingsMap": {},
     "title": ""
    }
   },
   "outputs": [],
   "source": [
    "%fs ls dbfs:/tmp/raw/covid_nyt"
   ]
  }
 ],
 "metadata": {
  "application/vnd.databricks.v1+notebook": {
   "computePreferences": null,
   "dashboards": [],
   "environmentMetadata": {
    "base_environment": "",
    "environment_version": "2"
   },
   "inputWidgetPreferences": null,
   "language": "python",
   "notebookMetadata": {
    "mostRecentlyExecutedCommandWithImplicitDF": {
     "commandId": 8847778240211162,
     "dataframes": [
      "_sqldf"
     ]
    },
    "pythonIndentUnit": 4
   },
   "notebookName": "Untitled Notebook 2025-08-01 00_17_18",
   "widgets": {}
  },
  "language_info": {
   "name": "python"
  }
 },
 "nbformat": 4,
 "nbformat_minor": 0
}
