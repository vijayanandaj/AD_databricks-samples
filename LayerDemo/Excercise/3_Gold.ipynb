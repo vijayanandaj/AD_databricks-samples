{
 "cells": [
  {
   "cell_type": "code",
   "execution_count": 0,
   "metadata": {
    "application/vnd.databricks.v1+cell": {
     "cellMetadata": {},
     "inputWidgets": {},
     "nuid": "ca94e25e-ba04-4ebd-8b4c-1f3e0ac3d1fe",
     "showTitle": false,
     "tableResultSettingsMap": {},
     "title": ""
    }
   },
   "outputs": [],
   "source": [
    "# 3) GOLD – aggregate into a consumption-ready fact table\n",
    "\n",
    "from pyspark.sql.functions import date_trunc, count\n",
    "\n",
    "# TODO 1: point at your silver & gold paths\n",
    "silver_path = \"/tmp/silver/doc_events/\"\n",
    "gold_path   = \"/tmp/gold/doc_events_usage/\"\n",
    "\n",
    "# TODO 2: clear out previous gold if you need idempotence\n",
    "# dbutils.fs.rm(gold_path, recurse=True)\n",
    "\n",
    "# TODO 3: read Silver\n",
    "df_silver = spark.read.format(\"delta\").load(silver_path)\n",
    "\n",
    "# TODO 4: choose your grain (e.g. daily per doc) and write your aggregations\n",
    "gold = (\n",
    "  df_silver\n",
    "    .withColumn(\"day\", date_trunc(\"DAY\",\"event_ts\"))\n",
    "    .groupBy(\"day\",\"doc_id\")\n",
    "    .agg(\n",
    "      count(\"*\"   ).alias(\"n_events\"),\n",
    "      count(\"user_id\").alias(\"n_users\")\n",
    "    )\n",
    ")\n",
    "\n",
    "# TODO 5: write the Gold Δ table; consider partitionBy(…) for performance\n",
    "gold.write \\\n",
    "  .format(\"delta\") \\\n",
    "  .mode(\"overwrite\") \\\n",
    "  .partitionBy(\"day\") \\\n",
    "  .save(gold_path)\n",
    "\n",
    "# sanity-check\n",
    "display(spark.read.format(\"delta\").load(gold_path))"
   ]
  }
 ],
 "metadata": {
  "application/vnd.databricks.v1+notebook": {
   "computePreferences": null,
   "dashboards": [],
   "environmentMetadata": {
    "base_environment": "",
    "environment_version": "2"
   },
   "inputWidgetPreferences": null,
   "language": "python",
   "notebookMetadata": {
    "pythonIndentUnit": 4
   },
   "notebookName": "3_Gold",
   "widgets": {}
  },
  "language_info": {
   "name": "python"
  }
 },
 "nbformat": 4,
 "nbformat_minor": 0
}
