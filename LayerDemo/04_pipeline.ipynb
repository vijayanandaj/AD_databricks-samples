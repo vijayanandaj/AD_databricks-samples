{
 "cells": [
  {
   "cell_type": "code",
   "execution_count": 0,
   "metadata": {
    "application/vnd.databricks.v1+cell": {
     "cellMetadata": {
      "byteLimit": 2048000,
      "rowLimit": 10000
     },
     "inputWidgets": {},
     "nuid": "082caba4-dce0-467d-937d-bd239ad7beaf",
     "showTitle": false,
     "tableResultSettingsMap": {},
     "title": ""
    }
   },
   "outputs": [],
   "source": [
    "#04_pipeline\n",
    "# Medallion_Pipeline\n",
    "# =====================\n",
    "# Runs Bronze → Silver → Gold in sequence, propagating any needed parameters.\n",
    "\n",
    "try:\n",
    "    dbutils\n",
    "except NameError:\n",
    "    from pyspark.dbutils import DBUtils\n",
    "    dbutils = DBUtils(spark)\n",
    "\n",
    "import logging\n",
    "\n",
    "# Configure Python logging to show up in your driver’s stdout\n",
    "logging.basicConfig(level=logging.INFO,\n",
    "                    format=\"%(asctime)s %(levelname)s %(message)s\")\n",
    "\n",
    "def run_notebook(path: str, timeout: int = 3600, params: dict = None) -> str:\n",
    "    \"\"\"\n",
    "    Helper to run another notebook via dbutils.notebook.run.\n",
    "    :param path: full workspace path to the notebook, no extension\n",
    "    :param timeout: seconds to wait before aborting\n",
    "    :param params: dict of widget args (strings only) to pass in\n",
    "    :returns: the String result returned from the child notebook\n",
    "    \"\"\"\n",
    "    params = params or {}\n",
    "    logging.info(f\"▶️  Starting `{path}` with timeout={timeout}s, params={params}\")\n",
    "    result = dbutils.notebook.run(path, timeout, params)\n",
    "    logging.info(f\"✅  Finished `{path}`, returned: {result!r}\")\n",
    "    return result\n",
    "\n",
    "if __name__ == \"__main__\":\n",
    "    bronze_path = \"/Repos/jvijaytrainer@outlook.com/AD_databricks-samples/LayerDemo/01_Bronze\"\n",
    "    run_notebook(bronze_path)\n",
    "    \n",
    "     2) Silver layer\n",
    "    #silver_path = \"/Repos/vijayanandaj/AD_databricks-samples/LayerDemo/02_silver\"\n",
    "    #run_notebook(silver_path)\n",
    "\n",
    "    3) Gold layer\n",
    "    #gold_path = \"/Repos/vijayanandaj/AD_databricks-samples/LayerDemo/03_Gold\"\n",
    "    #run_notebook(gold_path)\n",
    "\n",
    "    logging.info(\"🎉 Medallion pipeline complete!\")"
   ]
  }
 ],
 "metadata": {
  "application/vnd.databricks.v1+notebook": {
   "computePreferences": null,
   "dashboards": [],
   "environmentMetadata": {
    "base_environment": "",
    "environment_version": "2"
   },
   "inputWidgetPreferences": null,
   "language": "python",
   "notebookMetadata": {
    "pythonIndentUnit": 4
   },
   "notebookName": "04_pipeline",
   "widgets": {}
  },
  "language_info": {
   "name": "python"
  }
 },
 "nbformat": 4,
 "nbformat_minor": 0
}
