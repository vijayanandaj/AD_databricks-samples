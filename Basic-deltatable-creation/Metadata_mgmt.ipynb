{
 "cells": [
  {
   "cell_type": "code",
   "execution_count": 0,
   "metadata": {
    "application/vnd.databricks.v1+cell": {
     "cellMetadata": {
      "byteLimit": 2048000,
      "rowLimit": 10000
     },
     "collapsed": true,
     "inputWidgets": {},
     "nuid": "2888d689-0f9f-4096-b460-4cdd379dca6c",
     "showTitle": false,
     "tableResultSettingsMap": {},
     "title": ""
    }
   },
   "outputs": [],
   "source": [
    "#0. Prepare a raw Delta folder (unregistered)\n",
    "# Python cell\n",
    "from delta.tables import DeltaTable\n",
    "from pyspark.sql.functions import current_timestamp\n",
    "\n",
    "spark.range(0, 5) \\\n",
    "     .withColumnRenamed(\"id\", \"event_id\") \\\n",
    "     .withColumn(\"event_ts\", current_timestamp()) \\\n",
    "     .write \\\n",
    "     .format(\"delta\") \\\n",
    "     .mode(\"overwrite\") \\\n",
    "     .save(\"/tmp/delta_demo_vj/raw_events_vj\")\n"
   ]
  },
  {
   "cell_type": "code",
   "execution_count": 0,
   "metadata": {
    "application/vnd.databricks.v1+cell": {
     "cellMetadata": {
      "byteLimit": 2048000,
      "implicitDf": true,
      "rowLimit": 10000
     },
     "collapsed": true,
     "inputWidgets": {},
     "nuid": "e3f2bccc-e6d1-4ef3-ac98-5527a6e0a1e4",
     "showTitle": false,
     "tableResultSettingsMap": {},
     "title": ""
    }
   },
   "outputs": [],
   "source": [
    "%sql\n",
    "--Show the raw Delta table on DBFS\n",
    "-- SQL cell\n",
    "DESCRIBE DETAIL 'dbfs:/tmp/delta_demo_vj/raw_events_vj';\n",
    "DESCRIBE HISTORY 'dbfs:/tmp/delta_demo_vj/raw_events_vj';\n"
   ]
  },
  {
   "cell_type": "code",
   "execution_count": 0,
   "metadata": {
    "application/vnd.databricks.v1+cell": {
     "cellMetadata": {
      "byteLimit": 2048000,
      "implicitDf": true,
      "rowLimit": 10000
     },
     "collapsed": true,
     "inputWidgets": {},
     "nuid": "9fc60113-3749-43e7-813b-8220ce2a53ef",
     "showTitle": false,
     "tableResultSettingsMap": {},
     "title": ""
    }
   },
   "outputs": [],
   "source": [
    "%sql\n",
    "-- switch your session over to the Hive Metastore catalog\n",
    "USE CATALOG hive_metastore;\n",
    "USE SCHEMA default;\n",
    "\n",
    "-- now register your table in HMS\n",
    "CREATE TABLE IF NOT EXISTS raw_events_hms_vj\n",
    "USING DELTA\n",
    "LOCATION 'dbfs:/tmp/delta_demo_vj/raw_events_vj';\n",
    "\n",
    "-- verify\n",
    "SHOW TABLES IN default LIKE 'raw_events_hms_vj';\n",
    "DESCRIBE EXTENDED raw_events_hms_vj;\n"
   ]
  },
  {
   "cell_type": "code",
   "execution_count": 0,
   "metadata": {
    "application/vnd.databricks.v1+cell": {
     "cellMetadata": {
      "byteLimit": 2048000,
      "implicitDf": true,
      "rowLimit": 10000
     },
     "collapsed": true,
     "inputWidgets": {},
     "nuid": "e6154f54-bb5c-4f45-a7bc-6b2b59dfb723",
     "showTitle": false,
     "tableResultSettingsMap": {},
     "title": ""
    }
   },
   "outputs": [],
   "source": [
    "%sql\n",
    "GRANT SELECT ON hive_metastore.default.raw_events_hms_vj TO `users`;\n",
    "SHOW GRANT ON TABLE hive_metastore.default.raw_events_hms_vj;\n"
   ]
  },
  {
   "cell_type": "code",
   "execution_count": 0,
   "metadata": {
    "application/vnd.databricks.v1+cell": {
     "cellMetadata": {
      "byteLimit": 2048000,
      "implicitDf": true,
      "rowLimit": 10000
     },
     "collapsed": true,
     "inputWidgets": {},
     "nuid": "0eabe308-b4dd-4e84-8025-56f127f842c6",
     "showTitle": false,
     "tableResultSettingsMap": {},
     "title": ""
    }
   },
   "outputs": [],
   "source": [
    "%sql\n",
    "DESCRIBE HISTORY hive_metastore.default.raw_events_hms_vj;\n"
   ]
  }
 ],
 "metadata": {
  "application/vnd.databricks.v1+notebook": {
   "computePreferences": null,
   "dashboards": [],
   "environmentMetadata": {
    "base_environment": "",
    "environment_version": "2"
   },
   "inputWidgetPreferences": null,
   "language": "python",
   "notebookMetadata": {
    "mostRecentlyExecutedCommandWithImplicitDF": {
     "commandId": 8003251843687368,
     "dataframes": [
      "_sqldf"
     ]
    },
    "pythonIndentUnit": 4
   },
   "notebookName": "Metadata_mgmt",
   "widgets": {}
  },
  "language_info": {
   "name": "python"
  }
 },
 "nbformat": 4,
 "nbformat_minor": 0
}
