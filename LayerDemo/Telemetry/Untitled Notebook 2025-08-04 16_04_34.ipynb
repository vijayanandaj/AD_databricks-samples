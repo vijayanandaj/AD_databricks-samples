{
 "cells": [
  {
   "cell_type": "code",
   "execution_count": 0,
   "metadata": {
    "application/vnd.databricks.v1+cell": {
     "cellMetadata": {},
     "inputWidgets": {},
     "nuid": "4eb9f6fd-3b80-418b-8623-d8f92cd18bfd",
     "showTitle": false,
     "tableResultSettingsMap": {},
     "title": ""
    }
   },
   "outputs": [],
   "source": [
    "Scratch\n",
    "#01_Bronze\n",
    "# Databricks notebook source\n",
    "#01_Bronze notebook\n",
    "from pyspark.sql.types import StructType, StructField, StringType\n",
    "from pyspark.sql.functions import current_timestamp, lit, input_file_name\n",
    "import os\n",
    "import builtins\n",
    "\n",
    "# Delete the old Bronze folder entirely\n",
    "dbutils.fs.rm(\"dbfs:/tmp/bronze/cc_events/\", recurse=True)\n",
    "\n",
    "# 1) Derive a unique process_id\n",
    "all_conf   = spark.conf.getAll   # note the ()\n",
    "job_id     = all_conf.get(\"spark.databricks.job.id\",   \"interactive\")\n",
    "run_id     = all_conf.get(\"spark.databricks.job.runId\", \"interactive\")\n",
    "process_id = f\"daily_ingest|{job_id}_{run_id}\"\n",
    "\n",
    "\n",
    "# 1) derive process_id with safe fallback\n",
    "\n",
    "\n",
    "# 2) Define the Bronze schema \n",
    "bronze_schema = StructType([\n",
    "    StructField(\"user_id\",         StringType(), True),\n",
    "    StructField(\"app_name\",        StringType(), True),\n",
    "    StructField(\"event_type\",      StringType(), True),\n",
    "    StructField(\"event_timestamp\", StringType(), True),\n",
    "    StructField(\"device\", StructType([\n",
    "        StructField(\"os\",     StringType(), True),\n",
    "        StructField(\"region\", StringType(), True)\n",
    "    ]), True)\n",
    "])\n",
    "\n",
    "# 3) Ensure the raw folder exists under DBFS /tmp\n",
    "raw_dbfs = \"dbfs:/tmp/raw/telemetry/\"\n",
    "raw_local = \"/dbfs/tmp/raw/telemetry/\"\n",
    "if not os.path.exists(raw_local):\n",
    "    dbutils.fs.mkdirs(raw_dbfs)\n",
    "    # Optionally burst in sample JSON here for a first run:\n",
    "    # dbutils.fs.put(f\"{raw_dbfs}sample1.json\", '{\"user_id\":\"u1\",\"app_name\":\"PS\",...}', True)\n",
    "\n",
    "# 4) Read the raw JSON into our Bronze schema\n",
    "raw_df = spark.read \\\n",
    "    .schema(bronze_schema) \\\n",
    "    .option(\"multiline\", True) \\\n",
    "    .json(raw_dbfs)\n",
    "\n",
    "# 5) Enrich with audit columns\n",
    "bronze_df = (raw_df\n",
    "    .withColumn(\"ingest_ts\",   current_timestamp())\n",
    "    .withColumn(\"process_id\",  lit(process_id))\n",
    ")\n",
    "\n",
    "# 6) Write to Bronze Delta (append-only)\n",
    "bronze_path = \"dbfs:/tmp/bronze/cc_events/\"\n",
    "bronze_df.write \\\n",
    "    .format(\"delta\") \\\n",
    "    .mode(\"append\") \\\n",
    "    .save(bronze_path)\n",
    "\n",
    "# 7) Sanity-check your Bronze table\n",
    "display(spark.read.format(\"delta\").load(bronze_path))\n"
   ]
  }
 ],
 "metadata": {
  "application/vnd.databricks.v1+notebook": {
   "computePreferences": null,
   "dashboards": [],
   "environmentMetadata": {
    "base_environment": "",
    "environment_version": "2"
   },
   "inputWidgetPreferences": null,
   "language": "python",
   "notebookMetadata": {
    "pythonIndentUnit": 4
   },
   "notebookName": "Untitled Notebook 2025-08-04 16_04_34",
   "widgets": {}
  },
  "language_info": {
   "name": "python"
  }
 },
 "nbformat": 4,
 "nbformat_minor": 0
}
