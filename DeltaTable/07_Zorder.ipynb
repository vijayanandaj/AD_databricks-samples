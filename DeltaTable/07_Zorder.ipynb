{
 "cells": [
  {
   "cell_type": "code",
   "execution_count": 0,
   "metadata": {
    "application/vnd.databricks.v1+cell": {
     "cellMetadata": {
      "byteLimit": 2048000,
      "rowLimit": 10000
     },
     "inputWidgets": {},
     "nuid": "fcd3aa57-59a0-4074-ba4d-b4ae091eba89",
     "showTitle": false,
     "tableResultSettingsMap": {},
     "title": ""
    }
   },
   "outputs": [],
   "source": [
    "#06 Zorder \n",
    "\n",
    "from pyspark.sql import SparkSession\n",
    "from pyspark.sql.functions import col, expr\n",
    "spark = SparkSession.builder.getOrCreate()\n",
    "\n",
    "# 1) Build a “wide” table: 1M rows, random country & age\n",
    "import random\n",
    "data = [(i,\n",
    "         random.choice([\"US\",\"CA\",\"MX\",\"IN\",\"DE\"]),\n",
    "         random.randint(1,100))\n",
    "        for i in range(1_000_000)]\n",
    "df = spark.createDataFrame(data, schema=[\"id\",\"country\",\"age\"])\n",
    "\n",
    "# 2) Write it as Delta (no partitioning)\n",
    "path = \"/tmp/delta_skip_zorder\"\n",
    "df.write.format(\"delta\").mode(\"overwrite\").save(path)\n",
    "\n",
    "# Read before Z-order\n",
    "# simple filter on age\n",
    "filtered = spark.read.format(\"delta\") \\\n",
    "    .load(path) \\\n",
    "    .filter(\"age BETWEEN 30 AND 40\")\n",
    "\n",
    "# show that many files are scanned\n",
    "print(\"Files scanned before ZORDER:\")\n",
    "filtered.explain(True)\n",
    "\n",
    "# Now cluster\n",
    "spark.sql(f\"OPTIMIZE delta.`{path}` ZORDER BY age\")\n",
    "\n",
    "# Read after Z-order\n",
    "filtered2 = spark.read.format(\"delta\") \\\n",
    "    .load(path) \\\n",
    "    .filter(\"age BETWEEN 30 AND 40\")\n",
    "print(\"Files scanned after ZORDER:\")\n",
    "filtered2.explain(True)\n",
    "\n",
    "import time\n",
    "t0 = time.time()\n",
    "filtered.count()\n",
    "print(\"Before:\", time.time() - t0, \"s\")\n",
    "\n",
    "t1 = time.time()\n",
    "filtered2.count()\n",
    "print(\"After ZORDER:\", time.time() - t1, \"s\")"
   ]
  }
 ],
 "metadata": {
  "application/vnd.databricks.v1+notebook": {
   "computePreferences": null,
   "dashboards": [],
   "environmentMetadata": {
    "base_environment": "",
    "environment_version": "2"
   },
   "inputWidgetPreferences": null,
   "language": "python",
   "notebookMetadata": {
    "pythonIndentUnit": 4
   },
   "notebookName": "07_Zorder",
   "widgets": {}
  },
  "language_info": {
   "name": "python"
  }
 },
 "nbformat": 4,
 "nbformat_minor": 0
}
