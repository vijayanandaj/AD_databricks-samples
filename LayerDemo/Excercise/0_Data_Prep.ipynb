{
 "cells": [
  {
   "cell_type": "code",
   "execution_count": 0,
   "metadata": {
    "application/vnd.databricks.v1+cell": {
     "cellMetadata": {},
     "inputWidgets": {},
     "nuid": "db0cc76e-92a7-4f26-837d-5368373753cb",
     "showTitle": false,
     "tableResultSettingsMap": {},
     "title": ""
    }
   },
   "outputs": [],
   "source": [
    "# 0) PREP: build a tiny “document event” dataset in driver memory & land as raw JSON on DBFS\n",
    "#    (this simulates your external source)\n",
    "import json, random, uuid\n",
    "from datetime import datetime, timedelta\n",
    "\n",
    "# parameters\n",
    "dbfs_raw = \"/tmp/raw/doc_events/\"\n",
    "local_tmp = \"/tmp/doc_events/\"               # driver-local staging\n",
    "dbutils.fs.rm(dbfs_raw, recurse=True)\n",
    "dbutils.fs.mkdirs(dbfs_raw)\n",
    "\n",
    "# generate ~100 sample records\n",
    "actions = [\"open\",\"edit\",\"save\",\"close\"]\n",
    "devices = [{\"os\":\"Windows\",\"region\":\"NA\"},{\"os\":\"macOS\",\"region\":\"EU\"},{\"os\":\"Android\",\"region\":\"APAC\"}]\n",
    "start = datetime(2025,8,1,8)\n",
    "rows = []\n",
    "for i in range(100):\n",
    "    ts = start + timedelta(minutes=random.randint(0, 60*24))\n",
    "    rows.append({\n",
    "      \"event_id\":    str(uuid.uuid4()),\n",
    "      \"user_id\":     f\"user_{random.randint(1,10)}\",\n",
    "      \"doc_id\":      f\"doc_{random.randint(1,5)}\",\n",
    "      \"action\":      random.choice(actions),\n",
    "      \"event_time\":  ts.isoformat(),\n",
    "      \"device\":      random.choice(devices)\n",
    "    })\n",
    "\n",
    "# write out as one-line JSON\n",
    "import os\n",
    "os.makedirs(local_tmp, exist_ok=True)\n",
    "with open(local_tmp + \"doc_events.json\",\"w\") as f:\n",
    "    for r in rows:\n",
    "        f.write(json.dumps(r)+\"\\n\")\n",
    "\n",
    "# copy into DBFS raw folder\n",
    "dbutils.fs.cp(\"file:\"+local_tmp+\"doc_events.json\", dbfs_raw+\"doc_events.json\")\n",
    "print(\"✅ Raw JSON landed at\", dbfs_raw)"
   ]
  }
 ],
 "metadata": {
  "application/vnd.databricks.v1+notebook": {
   "computePreferences": null,
   "dashboards": [],
   "environmentMetadata": {
    "base_environment": "",
    "environment_version": "2"
   },
   "inputWidgetPreferences": null,
   "language": "python",
   "notebookMetadata": {
    "pythonIndentUnit": 4
   },
   "notebookName": "0_Data_Prep",
   "widgets": {}
  },
  "language_info": {
   "name": "python"
  }
 },
 "nbformat": 4,
 "nbformat_minor": 0
}
